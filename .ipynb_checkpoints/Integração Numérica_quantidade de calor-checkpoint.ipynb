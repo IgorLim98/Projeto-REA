{
 "cells": [
  {
   "cell_type": "markdown",
   "metadata": {},
   "source": [
    "# Integração Numérica - Quantidade de calor\n",
    "\n",
    "Nas engenharias e nas ciências, frequentemente se quer determinar o quanto de calor precisa ser fornecido, a uma determinada substância, para que esta saia de uma temperatura inicial para uma temperatura final. Para isso é necessário determinar a capacidade calorifica do material em questão. A fórmula abaixo mostra o cálculo da quantidade de calor utilizando a capacidade calorífica:\n",
    "\n",
    "$$\\Large Q = mc \\Delta T$$\n",
    "\n",
    "- Onde $Q$ é a quantidade de calor, $m$ a massa em questão,  $c$ a capacidade calorífica e delta $\\Delta T$ a variação de temperatura desejada.\n",
    "- $c$ diz respeito a quantidade de energia necessária que deve ser fornecida (ou retirada do) ao material para que uma unidade de massa desse material varia sua temperatura em uma unidade de temperatura.\n",
    "\n",
    "A capacidade calorífica é definida de duas formas, capacidade calorífica a volume constante $C_{V}$ e a capacidade calorifica a pressão constante, $C_{P}$.\n",
    "\n",
    "Entretanto, um problema prático surge. A capacidade calorífica é constante (não depende da temperatura) para pequenos intervalos de temperatura, mas para intervalos maiores $c$ já não é mais constante e passa a variar com a temperatura sob a forma da seguinte equação empírica:\n",
    "\n",
    "$$\\Large \\frac{C_{P}}{R} = A + BT + CT^2+DT^{-2}$$\n",
    "\n",
    "Os parâmetros $A$ , $B$, $C$ e $D$ são independentes da temperatura, mas acabem por sofrer influência do valor da pressão constante. Normalmente, os dois últimos parâmetros são iguais a zero para uma grande gama de substâncias.\n",
    "\n",
    "Visto que a fração do lado esquerdo da equação acima é adimensional, as unidades de  $C_{P}$ são as escolhidas para a constante universal dos gases $R$.\n",
    "\n",
    "Vamos determinar a a quantidade de calor necessária para elevar a temperatura da amônia de 10°C à 100°C utilizando integração numérica no Python.\n",
    "\n",
    "Existe uma biblioteca da linguagem Python chamada **Scipy** voltada para ciências e engenharias que possui o pacote de integração **scipy.integrate**. Nesse pacote utilizaremos a função **quad** que recebe como parâmetros a função a ser integrada, e o intervalo de integração delimitados pelo valor inicial $a$ e o valor final $b$. Essa função retorna ainda, o valor numérico da integração e o uma estimativa do erro numérico associado ao método de integração utilizado.\n",
    "\n",
    "Os valores dos parâmetros $A$, $B$, $C$ e $D$ para amônia são retirados do livro *Introdução à Termodinâmica da Engenhara Química (SMITH, J.M. et al)*, mais especificamente na tabela C.3 do apêndice C.\n",
    "\n",
    "$$\\Large A=22,626; B=-100,75.10^{-3}; C = 192,71.10^{-6}$$\n",
    "\n",
    "Sendo assim, temos que buscamos integrar a seguinte expressão:\n",
    "\n",
    "$$\\Large \\Delta H = \\int_{283K}^{373K} \\frac{C_{p}}{R}dt$$"
   ]
  },
  {
   "cell_type": "markdown",
   "metadata": {},
   "source": [
    "$$\\Large \\Delta H = \\int_{283K}^{373K} (22,626 - 100,75.10^{-3}T + 192,71.10^{-6}T^2)dT$$\n",
    "\n"
   ]
  },
  {
   "cell_type": "code",
   "execution_count": 1,
   "metadata": {},
   "outputs": [
    {
     "name": "stdout",
     "output_type": "stream",
     "text": [
      "o resultado é: 7813.773808 (+-1.04342e-11)\n"
     ]
    }
   ],
   "source": [
    "from scipy.integrate import quad\n",
    "#importa a função quad para integrar numericamente uma função\n",
    "\n",
    "def funcao(T): #definindo a função em questão para utilizar na função quad\n",
    "    return 22.626 - 0.10075*T + 0.00019271*(T**2) #função de Cp para a amônia \n",
    "\n",
    "c, erro = quad(funcao, 283, 373) # 10 °C e 100°C na escala Kelvin respectivamente\n",
    "\n",
    "print(\"o resultado é: {:f} (+-{:g})\"\n",
    "    .format(c*8.314, erro)) # é necessário multplicar o resultado pelo valor da Constante universal dos gases R = 8.413"
   ]
  }
 ],
 "metadata": {
  "kernelspec": {
   "display_name": "Python 3",
   "language": "python",
   "name": "python3"
  },
  "language_info": {
   "codemirror_mode": {
    "name": "ipython",
    "version": 3
   },
   "file_extension": ".py",
   "mimetype": "text/x-python",
   "name": "python",
   "nbconvert_exporter": "python",
   "pygments_lexer": "ipython3",
   "version": "3.8.6"
  }
 },
 "nbformat": 4,
 "nbformat_minor": 4
}
