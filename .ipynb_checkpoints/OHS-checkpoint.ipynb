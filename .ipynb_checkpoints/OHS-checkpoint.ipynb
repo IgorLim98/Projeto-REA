{
 "cells": [
  {
   "cell_type": "markdown",
   "metadata": {},
   "source": [
    "# Oscilador Harmônico Simples\n",
    "\n",
    "## Movimento Periódico\n",
    "Um movimento é dito periódico quando um objeto saí de uma posição e, após um certo intervalo de tempo chamado Período ($T$), retorna a essa posição original com a mesma velocidade. Matematicamente falando:\n",
    "\n",
    "$$\\Large \\vec{r}(t + T) = \\vec{r}(t)$$"
   ]
  },
  {
   "attachments": {
    "f09b106b-9f1b-4c1c-880c-e233a6fa416a.png": {
     "image/png": "[encoded data removed]"
    }
   },
   "cell_type": "markdown",
   "metadata": {},
   "source": [
    "$$\\Large \\vec{v}(t + T) = \\vec{v}(t)$$\n",
    "\n",
    "Onde $\\vec{r}$ e $\\vec{v}$ são respectivamente os vetores posição e velocidade deste objeto.  \n",
    "Outra característica importante de um movimento periódico é a frequência ($f$) que representa o número de vezes que o movimento se repete em uma unidade de tempo. Tal propriedade é definida como sendo o inverso do Período:\n",
    "\n",
    "$$\\Large f = \\frac{1}{T}$$\n",
    "\n",
    "## Força elástica\n",
    "\n",
    "É a força que proporciona o movimento periódico. As vezes denominada força restauradora, esta tende a restaurar o equilíbrio retornando o objeto a posição de equilíbrio toda vez que o mesmo é deslocado. Esse tipo de força tem a forma semelhante a:\n",
    "\n",
    "$$\\Large F = -kx$$\n",
    "\n",
    "A variável k representa a constante elástica da mola, e é especifica para o material que compõe a mola.\n",
    "\n",
    "## Equação do movimento\n",
    "\n",
    "Pela segunda lei de newton, sabemos que a força resultante sobre um objeto é igual ao produto da massa pela aceleração deste.  Podemos determinar uma equação que descreva a posição de um objeto em função do tempo, a partir da segunda lei de newton. Imagine um corpo qualquer de massa $m$ preso a uma mola de constante elástica $k$, como na figura abaixo.\n",
    "\n",
    "![image.png](attachment:f09b106b-9f1b-4c1c-880c-e233a6fa416a.png)\n",
    "\n",
    "Considerando que a força aplicada a esse corpo de massa m, seja a força restauradora mencionada acima, temos que:\n",
    "\n",
    "$$\\Large ma = -kx$$\n",
    "\n",
    "Podemos escrever a aceleração a como sendo a segunda derivada em relação ao tempo t. Sendo assim, a equação acima fica: \n",
    "\n",
    "$$\\Large m \\frac{d^2x(t)}{dt^2} = -kx(t)$$\n",
    "\n",
    "Temos em mãos, então, uma equação diferencial ordinária (EDO) que delimita a posição de um oscilador harmônico simples (OHS) em função do tempo.\n",
    "\n",
    "Para determinarmos a expressão da função $x(t)$, precisamos resolver essa equação acima.  O intuito do presente trabalho é utilizar computação numérica, com a linguagem Scilab para isso. \n",
    "\n",
    "Antes de tudo é necessário utilizar um artificio matemático para transformar a EDO de 2ª ordem acima, em um sistema de 2 EDO’s de 1ª ordem. Para isso, fazemos: \n",
    "\n",
    "$$\\Large \\frac{dx(t)}{dt} = v$$\n",
    "\n",
    "Dessa forma, fica implícito que:\n",
    "\n",
    "$$\\Large \\frac{dv}{dt} = \\frac{d^2x(t)}{dt^2}$$\n",
    "\n",
    "Portanto, fazendo as devidas substituições temos o seguinte sistema:\n",
    "\n",
    "$$\\Large \\frac{dx(t)}{dt} = v$$"
   ]
  },
  {
   "cell_type": "markdown",
   "metadata": {},
   "source": [
    "$$\\Large \\frac{dv}{dt} = -\\frac{k}{m}x(t)$$\n",
    "\n",
    "Com isso aplicamos o método numérico de Euler para o sistema acima:"
   ]
  },
  {
   "cell_type": "code",
   "execution_count": null,
   "metadata": {},
   "outputs": [],
   "source": [
    "//Resolução da equação de movimento para OSCILADOR HARMÔNICO SIMPLES\n",
    "//A equação é: X''(t) = -(k/m)X(t) uma edo de 2ª ordem\n",
    "\n",
    "//Parâmetros do problema\n",
    "//m = 1kg; K = 1N/m; \n",
    "//Intervalo de tempo  = 0 à 40 segundos \n",
    "// deslocamento da mola incialmente é 0.20 metros\n",
    "// velocidade no instante t = 0 é 0 metros/segundo\n",
    "\n",
    "clear,clc\n",
    "// definindo o intervalo de tempo\n",
    "t0 = input(\"informe o valor inicial do intervalo: \");\n",
    "tn = input(\"informe o valor final do intervalo: \");\n",
    "h = input(\"Informe o passo h: \");\n",
    "t = t0:h:tn // criando o vetor intervalo de tempo\n",
    "t = t' // apenas transpoe o vetor t\n",
    "\n",
    "k = input(\"informe a constante da mola:\")\n",
    "m = input(\"informe a massa do objeto: \")\n",
    "\n",
    "//condições iniciais\n",
    "w1(1) = 0.20 // objeto deslocado 0.20 m da posição de equilibrio\n",
    "w2(1) = 0 // no instante que o objeto é solto, têm se velocidade igual a zero\n",
    "\n",
    "\n",
    "for j = 2:length(t)\n",
    "    w1(j) = w1(j-1) + w2(j-1)*h //diz respeito a X(t)\n",
    "    w2(j) = w2(j-1) -(k/m)*w1(j-1)*h // diz respeito a V(t)\n",
    "end\n",
    "\n",
    "// determinado para o caso especifico de m = 1kg, k = 1N/m, X(0) = 0.20m, theta_inicial  = 0\n",
    "function x = f(t)\n",
    "    x = w1(1)*cos(sqrt(k/m)*t) //w1(1) corresponde ao deslocamento inicial da mola\n",
    "endfunction\n",
    "plot2d(t,[w1, f()], leg = \"Numérico@Exata@\")"
   ]
  }
 ],
 "metadata": {
  "kernelspec": {
   "display_name": "Scilab",
   "language": "scilab",
   "name": "scilab"
  },
  "language_info": {
   "file_extension": ".sci",
   "help_links": [
    {
     "text": "MetaKernel Magics",
     "url": "https://metakernel.readthedocs.io/en/latest/source/README.html"
    }
   ],
   "mimetype": "text/x-octave",
   "name": "octave",
   "version": "0.9.10"
  }
 },
 "nbformat": 4,
 "nbformat_minor": 4
}
