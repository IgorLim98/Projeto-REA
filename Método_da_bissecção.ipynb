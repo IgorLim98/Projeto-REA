{
 "cells": [
  {
   "attachments": {
    "6b165456-6ee3-4bad-b874-ff666c1d2498.png": {
     "image/png": "[encoded data removed]"
    }
   },
   "cell_type": "markdown",
   "metadata": {},
   "source": [
    "# Encontrando raízes de equação - Caso do paraquedista\n",
    "\n",
    "A raiz de uma $f(x)$ é um valor de $x$ (variável independente) que ao ser substituído na expressão da função, o valor desta se iguala a zero, em outras palavras:\n",
    "\n",
    "$$\\Large f(x) = 0$$\n",
    "\n",
    "Apesar muitas funções possuírem modos analíticos de encontrar suas raízes, uma parcela considerada de outras funções não contêm tal facilidade. Nesse caso são necessários métodos numéricos para determinar tais valores. Existem vários métodos para determinar as raízes de uma equação, como os métodos intervalares, os métodos abertos, entre outros.\n",
    "\n",
    "## Motivação\n",
    "\n",
    "Imagine uma função ($v$) que mede a velocidade de um paraquedista de massa m caindo sob a força da aceleração da gravidade:\n",
    "\n",
    "$$\\Large v = \\frac{gm}{c}(1-e^{(-\\frac{c}{m})t})$$\n",
    "\n",
    "Sendo $c$ o coeficiente de arrasto e $t$ o tempo em questão. De posse dos valores da massa do paraquedista e do coeficiente de arrasto, é fácil resolver analiticamente essa equação para determinar o valor de $t$ que zera a função, pois $v$ é expressa explicitamente na equação.\n",
    "\n",
    "Entretanto, se o objetivo fosse determinar o coeficiente de arrasto para que um paraquedista de uma certa massa $m$ atinja uma certa velocidade $v$ num determinado intervalo de tempo, perceberia – se que isso não seria possível, pois não há como isolar a variável $c$ em um dos lados da equação. Dizemos então que $c$  está implícito na equação.\n",
    "\n",
    "Esse mesmo tipo de problema ocorre com frequência na área da engenharia, e para a resolução destes utilizam – se os métodos numéricos de raízes de equações. Abordaremos um destes, o método da bissecção, logo a seguir.\n",
    "\n",
    "## Método da bissecção\n",
    "O método da bissecção se encaixa no grupo dos métodos intervalares que se baseiam numa consequência do Teorema do Valor Intermediário:\n",
    "\n",
    "Se o valor de um função f(x) muda de sinal em algum ponto do intervalo [a,b], em outras palavras:\n",
    "\n",
    "$$\\Large f(a) \\cdot f(b)<0$$\n",
    "\n",
    "Obrigatoriamente deve existir pelo menos um valor $\\varepsilon$ pertencente a esse intervalo [a, b] que é raiz dessa função.\n",
    "\n",
    "![image.png](attachment:6b165456-6ee3-4bad-b874-ff666c1d2498.png)\n",
    "\n",
    "Os métodos de busca incrementais tiram vantagem dessa observação localizando um intervalo no qual a função muda de sinal. Então, a posição da mudança de sinal (e, consequentemente, da raiz) é identificada mais precisamente, dividindo-se o intervalo em diversos subintervalos. Procura-se em cada um desses subintervalos para localizar a mudança de sinal. O processo é repetido e a estimativa da raiz é refinada dividindo-se os subintervalos em incrementos menores.\n",
    "\n",
    "Na prática, não temos o valor da raiz exata, afinal esse é o intuito do método, e por isso utiliza – se um critério de parada que é o erro em relação ao valor da raiz anteriormente calculado. Como o intervalo diminuí a cada iteração, podemos preestabelecer um valor de erro aceitável para encontrar um valor aproximado da raiz exata.\n",
    "\n",
    "Podemos utilizar o método acima para resolver o problema do paraquedista mencionado anteriormente.  Para isso, precisamos rearranjar a equação (14) subtraindo $v$ de ambos os lados. Chamamos, então, essa função de $f(c)$:\n",
    "\n",
    "$$\\Large f(c) = \\frac{gm}{c}(1-e^{(-\\frac{c}{m})t}) - v$$\n",
    "\n",
    "Imaginando um paraquedista de 68.1 kg caindo a uma velocidade de 40 m/s no tempo t = 10s e adotando a aceleração da gravidade como 9.81m/s², temos que a equação passa a ser:\n",
    "\n",
    "$$\\Large f(c) = \\frac{668,06}{c}(1 - e^{-0.146843c})-40$$"
   ]
  },
  {
   "cell_type": "code",
   "execution_count": null,
   "metadata": {},
   "outputs": [],
   "source": [
    "// Algoritmo para encontrar raízes de um função utilizadndo o método da bissecção \n",
    "// Escreva aqui a função de uma variável \n",
    "function y = f(x); \n",
    "    y = (668.06/x)*(1-exp(-0.146843*x)) - 40 \n",
    "endfunction\n",
    "\n",
    "function acha_raiz(lim_inf, lim_sup, erro) \n",
    "    //encontra a raiz aproximada de uma função, quando fornecido o limite inferior, o superior e o erro aceitável    \n",
    "    while (1)\n",
    "        raiz = (lim_inf + lim_sup)/2\n",
    "        if abs(lim_sup - lim_inf) < erro then //caso o intervalor encontrado seja menor que o erro informado, achamos a raiz\n",
    "            printf(\"Raiz aproximada encontrada:\")\n",
    "            x = (lim_inf+lim_sup)/2\n",
    "            break;\n",
    "        elseif f(lim_inf)*f(raiz) > 0 then // se esse produto é positivo, significa que a raiz está no intervalor superior\n",
    "            lim_inf = raiz;\n",
    "        elseif f(lim_inf)*f(raiz) < 0  // se as duas possibilidades acima não estão corretas, só resta que a raiz está no intervalo inferior\n",
    "            lim_sup = raiz                \n",
    "        end\n",
    "    end\n",
    "    // Observe que o intervalo vai sempre sendo diminuído\n",
    "    disp(x);\n",
    "    printf(\"Valor da função aplicada na raiz aproximada encontrada:\\ny = \")\n",
    "    disp(f(x))\n",
    "    \n",
    "endfunction\n",
    "\n",
    "//Antes de chutar um valor inicial, vamos plotar a função para termos uma noção onde a raiz se encontra\n",
    "\n",
    "x = linspace(-20,20,50)\n",
    "plot(x,f)\n",
    "\n",
    "while(1)\n",
    "    a = input(\"Informe o limite inferior do intervalo: \");\n",
    "    b = input(\"Informe o limite superior do intervalo: \");\n",
    "    erro = input(\"Informe o erro/Críterio De Parada desejado: \")\n",
    "\n",
    "    if f(a)*f(b) < 0 then // verifica se raiz se encontra entre o intervalo fornecido\n",
    "        printf(\"O intervalo possui uma ou mais raizes\\n\")\n",
    "        break // caso a raiz esteja aqui, ele interrompe o loop e vai pra frente no algoritmo\n",
    "    else\n",
    "        printf(\"Esse intervalo não possue raiz, insira um novo!\")\n",
    "    end\n",
    "end\n",
    "\n",
    "acha_raiz(a,b,erro);"
   ]
  },
  {
   "cell_type": "markdown",
   "metadata": {},
   "source": [
    "Como visto no código, a raiz aproximada encontrada foi de $c = 14.801636$, se substituirmos na equação original para calcular a velocidade, verificaremos que o valor (39.999035) se aproxima de $40 m/s$ como estipulado."
   ]
  }
 ],
 "metadata": {
  "kernelspec": {
   "display_name": "Scilab",
   "language": "scilab",
   "name": "scilab"
  },
  "language_info": {
   "file_extension": ".sci",
   "help_links": [
    {
     "text": "MetaKernel Magics",
     "url": "https://metakernel.readthedocs.io/en/latest/source/README.html"
    }
   ],
   "mimetype": "text/x-octave",
   "name": "octave",
   "version": "0.9.10"
  }
 },
 "nbformat": 4,
 "nbformat_minor": 4
}
